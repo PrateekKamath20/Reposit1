{
  "nbformat": 4,
  "nbformat_minor": 0,
  "metadata": {
    "colab": {
      "provenance": [],
      "authorship_tag": "ABX9TyOs04zx0/VouWyvhpVQ+SUK",
      "include_colab_link": true
    },
    "kernelspec": {
      "name": "python3",
      "display_name": "Python 3"
    },
    "language_info": {
      "name": "python"
    }
  },
  "cells": [
    {
      "cell_type": "markdown",
      "metadata": {
        "id": "view-in-github",
        "colab_type": "text"
      },
      "source": [
        "<a href=\"https://colab.research.google.com/github/PrateekKamath20/Outfit-Recommender/blob/main/Untitled1.ipynb\" target=\"_parent\"><img src=\"https://colab.research.google.com/assets/colab-badge.svg\" alt=\"Open In Colab\"/></a>"
      ]
    },
    {
      "cell_type": "code",
      "execution_count": 1,
      "metadata": {
        "colab": {
          "base_uri": "https://localhost:8080/"
        },
        "id": "1haDx-XiJ5gF",
        "outputId": "e6c67ff7-bbc7-4c28-8e65-678693663adf"
      },
      "outputs": [
        {
          "output_type": "stream",
          "name": "stdout",
          "text": [
            "Gradient of the function F is [2*x*y**2 + y*z, 2*x**2*y + x*z, x*y]\n",
            "Gradient of the function F at (1,1,2) is [4, 4, 1]\n",
            "Normal of F at (1,1,2) is [0.696310623822791 0.696310623822791 0.174077655955698]\n",
            "Gradient of the function F at (1,2,1) is [10, 5, 2]\n",
            "Normal of F at (1,2,1) is [0.880450906325624 0.440225453162812 0.176090181265125]\n",
            "The angle between the normals N1 and N2 is 0.950254345734853\n"
          ]
        }
      ],
      "source": [
        "from sympy import *\n",
        "import numpy as np\n",
        "import math\n",
        "x=Symbol('x')\n",
        "y=Symbol('y')\n",
        "z=Symbol('z')\n",
        "F=x**2*y**2+x*y*z\n",
        "f1=diff(F,x)\n",
        "f2=diff(F,y)\n",
        "f3=diff(F,z)\n",
        "G=np.array([f1,f2,f3])\n",
        "N=G.tolist()\n",
        "print(\"Gradient of the function F is\",N)\n",
        "a=N[0]\n",
        "b=N[1]\n",
        "c=N[2]\n",
        "a=a.subs({x:1,y:1,z:2})\n",
        "b=b.subs({x:1,y:1,z:2})\n",
        "c=c.subs({x:1,y:1,z:2})\n",
        "Grad1=np.array([a,b,c])\n",
        "M1=Grad1.tolist()\n",
        "print(\"Gradient of the function F at (1,1,2) is\",M1)\n",
        "N1=Grad1/math.sqrt(a**2+b**2+c**2)\n",
        "print(\"Normal of F at (1,1,2) is\",N1)\n",
        "d=N[0]\n",
        "e=N[1]\n",
        "f=N[2]\n",
        "d=d.subs({x:1,y:2,z:1})\n",
        "e=e.subs({x:1,y:2,z:1})\n",
        "f=f.subs({x:1,y:2,z:1})\n",
        "Grad2=np.array([d,e,f])\n",
        "M2=Grad2.tolist()\n",
        "print(\"Gradient of the function F at (1,2,1) is\",M2)\n",
        "N2=Grad2/math.sqrt(d**2+e**2+f**2)\n",
        "print(\"Normal of F at (1,2,1) is\",N2)\n",
        "A=np.dot(N1,N2)\n",
        "print(\"The angle between the normals N1 and N2 is\",A)"
      ]
    }
  ]
}